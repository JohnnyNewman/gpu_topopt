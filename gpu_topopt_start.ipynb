{
 "cells": [
  {
   "cell_type": "code",
   "execution_count": 5,
   "metadata": {},
   "outputs": [],
   "source": [
    "import numpy as np\n",
    "import matplotlib.pyplot as plt"
   ]
  },
  {
   "cell_type": "code",
   "execution_count": 28,
   "metadata": {},
   "outputs": [
    {
     "data": {
      "text/plain": [
       "array([[0.42332251, 0.82814906, 0.57509093, 0.14402172, 0.16155397,\n",
       "        0.82310724, 0.26396384, 0.12275019, 0.72566248, 0.20624398,\n",
       "        0.0417505 , 0.13237653, 0.82912017, 0.38471719, 0.06452284,\n",
       "        0.44862971, 0.60870451, 0.14322313, 0.17075338, 0.31987145],\n",
       "       [0.78242831, 0.72434738, 0.5360224 , 0.48634637, 0.84895992,\n",
       "        0.12463821, 0.08241228, 0.51506796, 0.63563947, 0.02922762,\n",
       "        0.83558616, 0.60917472, 0.79359898, 0.80956714, 0.02606215,\n",
       "        0.8368352 , 0.04056356, 0.30263304, 0.14456017, 0.44396781],\n",
       "       [0.67635934, 0.29837728, 0.83135034, 0.64149176, 0.26152372,\n",
       "        0.53796981, 0.02242645, 0.82722121, 0.31234785, 0.98327489,\n",
       "        0.24303802, 0.75935119, 0.71133351, 0.47638238, 0.33691462,\n",
       "        0.33461039, 0.71382255, 0.49057968, 0.54461077, 0.90807067],\n",
       "       [0.91775846, 0.83521493, 0.19927234, 0.40787767, 0.74420671,\n",
       "        0.36763845, 0.39221539, 0.07353395, 0.30905599, 0.28503631,\n",
       "        0.98111332, 0.49153694, 0.85585376, 0.43669158, 0.45257905,\n",
       "        0.04529521, 0.52509085, 0.61223689, 0.92002978, 0.57458729],\n",
       "       [0.39693007, 0.87352303, 0.59347565, 0.25448045, 0.38979675,\n",
       "        0.93118089, 0.16456735, 0.44849403, 0.67801531, 0.49750728,\n",
       "        0.15939952, 0.28494566, 0.1434851 , 0.39324175, 0.02623811,\n",
       "        0.47779982, 0.06297346, 0.24707039, 0.96399849, 0.43438294],\n",
       "       [0.6867703 , 0.04338373, 0.85398806, 0.5828286 , 0.93798749,\n",
       "        0.5660882 , 0.80080838, 0.81757778, 0.71592393, 0.93691756,\n",
       "        0.56051756, 0.56678631, 0.10478338, 0.1358793 , 0.88556935,\n",
       "        0.54464091, 0.96464967, 0.54869862, 0.92791295, 0.29292077],\n",
       "       [0.26785419, 0.89348671, 0.88701331, 0.5194529 , 0.48728338,\n",
       "        0.38406049, 0.09338088, 0.66126448, 0.40404124, 0.94208021,\n",
       "        0.5713755 , 0.80507436, 0.39339921, 0.65640357, 0.48117444,\n",
       "        0.27451599, 0.78429724, 0.68774183, 0.46617133, 0.40715696],\n",
       "       [0.56479197, 0.18633317, 0.97076128, 0.98411897, 0.23920249,\n",
       "        0.35986425, 0.62131737, 0.70680881, 0.39303005, 0.71845868,\n",
       "        0.06958361, 0.79274006, 0.30046561, 0.57022056, 0.46966073,\n",
       "        0.93939478, 0.9233004 , 0.39374969, 0.95015821, 0.37777055],\n",
       "       [0.95645269, 0.83495806, 0.35841861, 0.6097188 , 0.54558761,\n",
       "        0.4128699 , 0.70502998, 0.31981843, 0.91568092, 0.90681829,\n",
       "        0.96879811, 0.79942457, 0.64561285, 0.93416644, 0.02103969,\n",
       "        0.12584881, 0.00109368, 0.57157123, 0.64105467, 0.76431236],\n",
       "       [0.85051601, 0.58021342, 0.14918147, 0.73085755, 0.05147125,\n",
       "        0.19142444, 0.99720472, 0.69273699, 0.05815203, 0.20910672,\n",
       "        0.90874301, 0.88171597, 0.53759187, 0.05176849, 0.30165432,\n",
       "        0.85389693, 0.31686781, 0.10244387, 0.01906657, 0.9364065 ]])"
      ]
     },
     "execution_count": 28,
     "metadata": {},
     "output_type": "execute_result"
    }
   ],
   "source": [
    "vals = np.random.rand(10,20)\n",
    "vals"
   ]
  },
  {
   "cell_type": "code",
   "execution_count": 17,
   "metadata": {},
   "outputs": [
    {
     "data": {
      "text/plain": [
       "<matplotlib.image.AxesImage at 0x570cc50>"
      ]
     },
     "execution_count": 17,
     "metadata": {},
     "output_type": "execute_result"
    },
    {
     "data": {
      "image/png": "[encoded data removed]",
      "text/plain": [
       "<Figure size 864x432 with 1 Axes>"
      ]
     },
     "metadata": {},
     "output_type": "display_data"
    }
   ],
   "source": [
    "fig = plt.figure(figsize=(12,6))\n",
    "#ax = fig.subplots(2,1,1)\n",
    "plt.imshow(vals, cmap=\"jet\")"
   ]
  },
  {
   "cell_type": "code",
   "execution_count": 18,
   "metadata": {},
   "outputs": [
    {
     "data": {
      "text/plain": [
       "<matplotlib.image.AxesImage at 0x791b0f0>"
      ]
     },
     "execution_count": 18,
     "metadata": {},
     "output_type": "execute_result"
    },
    {
     "data": {
      "image/png": "[encoded data removed]",
      "text/plain": [
       "<Figure size 864x432 with 1 Axes>"
      ]
     },
     "metadata": {},
     "output_type": "display_data"
    }
   ],
   "source": [
    "fig = plt.figure(figsize=(12,6))\n",
    "\n",
    "plt.imshow(vals, cmap=\"binary\")"
   ]
  },
  {
   "cell_type": "code",
   "execution_count": 26,
   "metadata": {},
   "outputs": [],
   "source": [
    "shapeFunc00 = lambda r,s: 0.25*(r-1.)*(s-1.)\n",
    "shapeFunc01 = lambda r,s: 0.25*(1.-r)*(s-1.)\n",
    "shapeFunc11 = lambda r,s: 0.25*(1.-r)*(1.-s)\n",
    "shapeFunc10 = lambda r,s: 0.25*(r-1.)*(1.-s)\n",
    "shapeFuncs = [shapeFunc00, shapeFunc01, shapeFunc11, shapeFunc10]"
   ]
  },
  {
   "cell_type": "code",
   "execution_count": 27,
   "metadata": {},
   "outputs": [
    {
     "name": "stdout",
     "output_type": "stream",
     "text": [
      "0 0 0 0.25\n",
      "0 -1 -1 1.0\n",
      "0 -1 1 -0.0\n",
      "0 1 1 0.0\n",
      "0 1 -1 -0.0\n",
      "\n",
      "1 0 0 -0.25\n",
      "1 -1 -1 -1.0\n",
      "1 -1 1 0.0\n",
      "1 1 1 0.0\n",
      "1 1 -1 -0.0\n",
      "\n",
      "2 0 0 0.25\n",
      "2 -1 -1 1.0\n",
      "2 -1 1 0.0\n",
      "2 1 1 0.0\n",
      "2 1 -1 0.0\n",
      "\n",
      "3 0 0 -0.25\n",
      "3 -1 -1 -1.0\n",
      "3 -1 1 -0.0\n",
      "3 1 1 0.0\n",
      "3 1 -1 0.0\n",
      "\n"
     ]
    }
   ],
   "source": [
    "for k, sf in enumerate(shapeFuncs):\n",
    "    for r,s in [(0,0), (-1,-1), (-1,1), (1,1), (1,-1)]:    \n",
    "        print(k,r,s,sf(r,s))\n",
    "    print()"
   ]
  },
  {
   "cell_type": "code",
   "execution_count": null,
   "metadata": {},
   "outputs": [],
   "source": [
    "sf1D_0_3 = lambda r : "
   ]
  },
  {
   "cell_type": "code",
   "execution_count": 31,
   "metadata": {},
   "outputs": [],
   "source": [
    "I = np.eye(4)"
   ]
  },
  {
   "cell_type": "code",
   "execution_count": 35,
   "metadata": {},
   "outputs": [
    {
     "name": "stdout",
     "output_type": "stream",
     "text": [
      "0 -1 -1\n",
      "1 -1 1\n",
      "2 1 -1\n",
      "3 1 1\n"
     ]
    }
   ],
   "source": [
    "RS = np.zeros((4,4))\n",
    "i = 0\n",
    "for r in [-1, 1]:\n",
    "    for s in [-1, 1]:\n",
    "        print(i, r, s)\n",
    "        RS[i,0] = 1\n",
    "        RS[i,1] = r\n",
    "        RS[i,2] = s\n",
    "        RS[i,3] = r*s        \n",
    "        i += 1"
   ]
  },
  {
   "cell_type": "code",
   "execution_count": 45,
   "metadata": {},
   "outputs": [],
   "source": [
    "def get_rs_term(r,s,i):\n",
    "    if i == 0:\n",
    "        return 1\n",
    "    elif i == 1:\n",
    "        return r\n",
    "    elif i == 2:\n",
    "        return s\n",
    "    elif i == 3:\n",
    "        return r*s\n",
    "    elif i == 4:\n",
    "        return r*r\n",
    "    elif i == 5:\n",
    "        return s*s\n",
    "    elif i == 6:\n",
    "        return r*r*s\n",
    "    elif i == 7:\n",
    "        return r*s*s\n",
    "    elif i == 8:\n",
    "        return r*r*s*s\n",
    "    else:\n",
    "        raise Exception"
   ]
  },
  {
   "cell_type": "code",
   "execution_count": 58,
   "metadata": {},
   "outputs": [],
   "source": [
    "I = np.eye(9)\n",
    "RS = np.zeros((9,9))\n",
    "rs2i = []\n",
    "i = 0\n",
    "for r in [-1, 0, 1]:\n",
    "    for s in [-1, 0, 1]:\n",
    "        for j in range(9):\n",
    "            RS[i,j] = get_rs_term(r,s,j)\n",
    "        rs2i.append(((r,s), i))\n",
    "        i += 1\n",
    "RS1 = RS\n"
   ]
  },
  {
   "cell_type": "code",
   "execution_count": 55,
   "metadata": {},
   "outputs": [
    {
     "name": "stdout",
     "output_type": "stream",
     "text": [
      "0 -1 -1\n",
      "1 -1 0\n",
      "2 -1 1\n",
      "3 0 -1\n",
      "4 0 0\n",
      "5 0 1\n",
      "6 1 -1\n",
      "7 1 0\n",
      "8 1 1\n"
     ]
    },
    {
     "data": {
      "text/plain": [
       "array([[0., 0., 0., 0., 0., 0., 0., 0., 0.],\n",
       "       [0., 0., 0., 0., 0., 0., 0., 0., 0.],\n",
       "       [0., 0., 0., 0., 0., 0., 0., 0., 0.],\n",
       "       [0., 0., 0., 0., 0., 0., 0., 0., 0.],\n",
       "       [0., 0., 0., 0., 0., 0., 0., 0., 0.],\n",
       "       [0., 0., 0., 0., 0., 0., 0., 0., 0.],\n",
       "       [0., 0., 0., 0., 0., 0., 0., 0., 0.],\n",
       "       [0., 0., 0., 0., 0., 0., 0., 0., 0.],\n",
       "       [0., 0., 0., 0., 0., 0., 0., 0., 0.]])"
      ]
     },
     "execution_count": 55,
     "metadata": {},
     "output_type": "execute_result"
    }
   ],
   "source": [
    "I = np.eye(9)\n",
    "RS = np.zeros((9,9))\n",
    "rs2i = []\n",
    "i = 0\n",
    "for r in [-1, 0, 1]:\n",
    "    for s in [-1, 0, 1]:\n",
    "        print(i, r, s)\n",
    "        RS[i,0] = 1\n",
    "        RS[i,1] = r\n",
    "        RS[i,2] = s\n",
    "        RS[i,3] = r*s\n",
    "        RS[i,4] = r*r        \n",
    "        RS[i,5] = s*s        \n",
    "        RS[i,6] = r*r*s        \n",
    "        RS[i,7] = r*s*s      \n",
    "        RS[i,8] = r*r*s*s      \n",
    "        rs2i.append(((r,s), i))\n",
    "        \n",
    "        i += 1\n",
    "RS - RS1"
   ]
  },
  {
   "cell_type": "code",
   "execution_count": 59,
   "metadata": {},
   "outputs": [
    {
     "data": {
      "text/plain": [
       "(array([[ 1., -1., -1.,  1.,  1.,  1., -1., -1.,  1.],\n",
       "        [ 1., -1.,  0.,  0.,  1.,  0.,  0.,  0.,  0.],\n",
       "        [ 1., -1.,  1., -1.,  1.,  1.,  1., -1.,  1.],\n",
       "        [ 1.,  0., -1.,  0.,  0.,  1.,  0.,  0.,  0.],\n",
       "        [ 1.,  0.,  0.,  0.,  0.,  0.,  0.,  0.,  0.],\n",
       "        [ 1.,  0.,  1.,  0.,  0.,  1.,  0.,  0.,  0.],\n",
       "        [ 1.,  1., -1., -1.,  1.,  1., -1.,  1.,  1.],\n",
       "        [ 1.,  1.,  0.,  0.,  1.,  0.,  0.,  0.,  0.],\n",
       "        [ 1.,  1.,  1.,  1.,  1.,  1.,  1.,  1.,  1.]]),\n",
       " array([[1., 0., 0., 0., 0., 0., 0., 0., 0.],\n",
       "        [0., 1., 0., 0., 0., 0., 0., 0., 0.],\n",
       "        [0., 0., 1., 0., 0., 0., 0., 0., 0.],\n",
       "        [0., 0., 0., 1., 0., 0., 0., 0., 0.],\n",
       "        [0., 0., 0., 0., 1., 0., 0., 0., 0.],\n",
       "        [0., 0., 0., 0., 0., 1., 0., 0., 0.],\n",
       "        [0., 0., 0., 0., 0., 0., 1., 0., 0.],\n",
       "        [0., 0., 0., 0., 0., 0., 0., 1., 0.],\n",
       "        [0., 0., 0., 0., 0., 0., 0., 0., 1.]]),\n",
       " [((-1, -1), 0),\n",
       "  ((-1, 0), 1),\n",
       "  ((-1, 1), 2),\n",
       "  ((0, -1), 3),\n",
       "  ((0, 0), 4),\n",
       "  ((0, 1), 5),\n",
       "  ((1, -1), 6),\n",
       "  ((1, 0), 7),\n",
       "  ((1, 1), 8)])"
      ]
     },
     "execution_count": 59,
     "metadata": {},
     "output_type": "execute_result"
    }
   ],
   "source": [
    "RS, I, rs2i"
   ]
  },
  {
   "cell_type": "code",
   "execution_count": 62,
   "metadata": {},
   "outputs": [],
   "source": [
    "C = np.linalg.solve(RS, I)"
   ]
  },
  {
   "cell_type": "code",
   "execution_count": 63,
   "metadata": {},
   "outputs": [
    {
     "data": {
      "text/plain": [
       "array([[ 0.  ,  0.  ,  0.  ,  0.  ,  1.  ,  0.  ,  0.  ,  0.  ,  0.  ],\n",
       "       [ 0.  , -0.5 ,  0.  ,  0.  ,  0.  ,  0.  ,  0.  ,  0.5 ,  0.  ],\n",
       "       [ 0.  ,  0.  ,  0.  , -0.5 ,  0.  ,  0.5 ,  0.  ,  0.  ,  0.  ],\n",
       "       [ 0.25,  0.  , -0.25,  0.  ,  0.  ,  0.  , -0.25,  0.  ,  0.25],\n",
       "       [-0.  ,  0.5 , -0.  , -0.  , -1.  , -0.  , -0.  ,  0.5 , -0.  ],\n",
       "       [ 0.  ,  0.  ,  0.  ,  0.5 , -1.  ,  0.5 ,  0.  ,  0.  ,  0.  ],\n",
       "       [-0.25,  0.  ,  0.25,  0.5 ,  0.  , -0.5 , -0.25,  0.  ,  0.25],\n",
       "       [-0.25,  0.5 , -0.25, -0.  , -0.  , -0.  ,  0.25, -0.5 ,  0.25],\n",
       "       [ 0.25, -0.5 ,  0.25, -0.5 ,  1.  , -0.5 ,  0.25, -0.5 ,  0.25]])"
      ]
     },
     "execution_count": 63,
     "metadata": {},
     "output_type": "execute_result"
    }
   ],
   "source": [
    "C"
   ]
  },
  {
   "cell_type": "code",
   "execution_count": 68,
   "metadata": {},
   "outputs": [
    {
     "name": "stdout",
     "output_type": "stream",
     "text": [
      "[ 0.  0.  0.  0. -0.  0. -0. -0.  0.]\n",
      "[ 0. -0.  0.  0.  0.  0.  0.  0. -0.]\n",
      "[ 0.  0.  0. -0. -0.  0.  0. -0.  0.]\n",
      "[ 0.  0. -0.  0. -0.  0.  0. -0. -0.]\n",
      "[ 1.  0.  0.  0. -0. -0.  0. -0.  0.]\n",
      "[ 0.  0.  0.  0. -0.  0. -0. -0. -0.]\n",
      "[ 0.  0.  0. -0. -0.  0. -0.  0.  0.]\n",
      "[ 0.  0.  0.  0.  0.  0.  0. -0. -0.]\n",
      "[ 0.  0.  0.  0. -0.  0.  0.  0.  0.]\n"
     ]
    }
   ],
   "source": [
    "r_test, s_test = 0, 0\n",
    "\n",
    "rs_test_vec = np.array([get_rs_term(r_test, s_test, i) for i in range(9)])\n",
    "\n",
    "for i in range(9):\n",
    "    print(C[:, i]*rs_test_vec)"
   ]
  }
 ],
 "metadata": {
  "kernelspec": {
   "display_name": "Python 3",
   "language": "python",
   "name": "python3"
  },
  "language_info": {
   "codemirror_mode": {
    "name": "ipython",
    "version": 3
   },
   "file_extension": ".py",
   "mimetype": "text/x-python",
   "name": "python",
   "nbconvert_exporter": "python",
   "pygments_lexer": "ipython3",
   "version": "3.6.5"
  }
 },
 "nbformat": 4,
 "nbformat_minor": 2
}
